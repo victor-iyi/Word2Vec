{
 "cells": [
  {
   "cell_type": "markdown",
   "metadata": {},
   "source": [
    "# Game of Thrones dataset"
   ]
  },
  {
   "cell_type": "code",
   "execution_count": null,
   "metadata": {
    "collapsed": false
   },
   "outputs": [],
   "source": [
    "import os\n",
    "import sys\n",
    "from datetime import datetime as dt\n",
    "\n",
    "import numpy as np\n",
    "import tensorflow as tf\n",
    "\n",
    "from dataset import TextDataset, WordVectorization"
   ]
  },
  {
   "cell_type": "code",
   "execution_count": null,
   "metadata": {
    "collapsed": false
   },
   "outputs": [],
   "source": [
    "dataset_dir = 'datasets/'\n",
    "data_dir = os.path.join(dataset_dir, 'game of thrones/')\n",
    "save_file = 'saved/data/game-of-thrones.pkl'\n",
    "if not os.path.isdir(data_dir):\n",
    "    raise FileNotFoundError(f'{data_dir} can not be found.')\n",
    "books = [os.path.join(data_dir, b) for b in os.listdir(data_dir) if b[0] != '.']\n",
    "print(books)"
   ]
  },
  {
   "cell_type": "code",
   "execution_count": null,
   "metadata": {
    "collapsed": false
   },
   "outputs": [],
   "source": [
    "corpus = ''\n",
    "for i, book in enumerate(books):\n",
    "    with open(book, mode='r', encoding='utf8') as f:\n",
    "        corpus += f.read()\n",
    "        sys.stdout.write(f'\\rCorpus now contains {len(corpus):,} words.')\n",
    "corpus = corpus[:100000]\n",
    "print(f'\\nCorpus length = {len(corpus):,}')"
   ]
  },
  {
   "cell_type": "code",
   "execution_count": null,
   "metadata": {
    "collapsed": false
   },
   "outputs": [],
   "source": [
    "data = WordVectorization(data_dir=dataset_dir, corpus=corpus, size='sm')"
   ]
  },
  {
   "cell_type": "code",
   "execution_count": null,
   "metadata": {
    "collapsed": false
   },
   "outputs": [],
   "source": [
    "data.create()\n",
    "data.save(save_file=save_file, force=True)\n",
    "# data = data.load(save_file=save_file)"
   ]
  },
  {
   "cell_type": "code",
   "execution_count": null,
   "metadata": {
    "collapsed": false
   },
   "outputs": [],
   "source": [
    "data._X.shape"
   ]
  },
  {
   "cell_type": "code",
   "execution_count": null,
   "metadata": {
    "collapsed": true
   },
   "outputs": [],
   "source": []
  }
 ],
 "metadata": {
  "kernelspec": {
   "display_name": "Python 3",
   "language": "python",
   "name": "python3"
  },
  "language_info": {
   "codemirror_mode": {
    "name": "ipython",
    "version": 3
   },
   "file_extension": ".py",
   "mimetype": "text/x-python",
   "name": "python",
   "nbconvert_exporter": "python",
   "pygments_lexer": "ipython3",
   "version": "3.6.3"
  }
 },
 "nbformat": 4,
 "nbformat_minor": 2
}
