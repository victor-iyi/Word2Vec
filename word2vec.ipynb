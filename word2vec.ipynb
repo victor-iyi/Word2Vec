{
 "cells": [
  {
   "cell_type": "markdown",
   "metadata": {},
   "source": [
    "# `Word2Vec`"
   ]
  },
  {
   "cell_type": "code",
   "execution_count": null,
   "metadata": {
    "collapsed": true
   },
   "outputs": [],
   "source": [
    "# Vanilla PyLibraries\n",
    "import os\n",
    "import sys\n",
    "\n",
    "# Third party Librarires\n",
    "import nltk\n",
    "import numpy as np\n",
    "import tensorflow as tf"
   ]
  },
  {
   "cell_type": "markdown",
   "metadata": {},
   "source": [
    "## Loading text"
   ]
  },
  {
   "cell_type": "code",
   "execution_count": null,
   "metadata": {
    "collapsed": true
   },
   "outputs": [],
   "source": [
    "file_name = 'wikitext/wiki.val.raw'\n",
    "corpus_text = open(file_name, mode='r', encoding='utf-8').read()\n",
    "corpus_text = corpus_text.lower()"
   ]
  },
  {
   "cell_type": "markdown",
   "metadata": {},
   "source": [
    "## `word2id` & `id2word`"
   ]
  },
  {
   "cell_type": "code",
   "execution_count": null,
   "metadata": {
    "collapsed": false
   },
   "outputs": [],
   "source": [
    "unique_words = set(nltk.word_tokenize(corpus_text))\n",
    "vocab_size = len(unique_words)\n",
    "\n",
    "word2id = {w: i for i, w in enumerate(unique_words)}\n",
    "id2word = {i: w for i, w in enumerate(unique_words)}"
   ]
  },
  {
   "cell_type": "markdown",
   "metadata": {},
   "source": [
    "## Sentences"
   ]
  },
  {
   "cell_type": "code",
   "execution_count": null,
   "metadata": {
    "collapsed": false
   },
   "outputs": [],
   "source": [
    "raw_sentences = nltk.sent_tokenize(corpus_text)\n",
    "sentences = [nltk.word_tokenize(sent) for sent in raw_sentences]"
   ]
  },
  {
   "cell_type": "markdown",
   "metadata": {},
   "source": [
    "## Constructing the `word` by `context`"
   ]
  },
  {
   "cell_type": "code",
   "execution_count": null,
   "metadata": {
    "collapsed": false
   },
   "outputs": [],
   "source": [
    "data = []\n",
    "WINDOW_SIZE = 2\n",
    "\n",
    "for s, sent in enumerate(sentences):\n",
    "    for i, word in enumerate(sent):\n",
    "        start = max(i - WINDOW_SIZE, 0)\n",
    "        end = min(WINDOW_SIZE+i, len(sent)) + 1\n",
    "        word_window = sent[start:end]\n",
    "        for context in word_window:\n",
    "            if context is not word:\n",
    "                data.append([word, context])\n",
    "    sys.stdout.write('\\r{:,} of {:,} sentences.'.format(s+1, len(sentences)))"
   ]
  },
  {
   "cell_type": "markdown",
   "metadata": {},
   "source": [
    "## `one_hot` vectors"
   ]
  },
  {
   "cell_type": "code",
   "execution_count": null,
   "metadata": {
    "collapsed": true
   },
   "outputs": [],
   "source": [
    "def one_hot(idx, vocab_size):\n",
    "    temp = np.zeros(shape=[vocab_size])\n",
    "    temp[idx] = 1.\n",
    "    return temp"
   ]
  },
  {
   "cell_type": "markdown",
   "metadata": {},
   "source": [
    "## Creating training vectors"
   ]
  },
  {
   "cell_type": "code",
   "execution_count": null,
   "metadata": {
    "collapsed": false
   },
   "outputs": [],
   "source": [
    "print(data[:10])"
   ]
  },
  {
   "cell_type": "code",
   "execution_count": null,
   "metadata": {
    "collapsed": false
   },
   "outputs": [],
   "source": [
    "X_train = []\n",
    "y_train = []\n",
    "\n",
    "for i, word_data in enumerate(data):\n",
    "    X_train.append(one_hot(word2id[ word_data[0] ], vocab_size))\n",
    "    y_train.append(one_hot(word2id[ word_data[1] ], vocab_size))\n",
    "    sys.stdout.write('\\r{:,} of {:,}'.format(i+1, len(data)))\n",
    "\n",
    "X_train = np.asarray(X_train)\n",
    "y_train = np.asarray(y_train)"
   ]
  },
  {
   "cell_type": "code",
   "execution_count": null,
   "metadata": {
    "collapsed": true
   },
   "outputs": [],
   "source": [
    "print(X_train.shape, y_train.shape)"
   ]
  },
  {
   "cell_type": "code",
   "execution_count": null,
   "metadata": {
    "collapsed": true
   },
   "outputs": [],
   "source": [
    "np.savez('data.npz', X_train, y_train)"
   ]
  },
  {
   "cell_type": "markdown",
   "metadata": {},
   "source": [
    "## Training with a `tensorflow` model"
   ]
  },
  {
   "cell_type": "code",
   "execution_count": null,
   "metadata": {
    "collapsed": true
   },
   "outputs": [],
   "source": [
    "# Model's placeholders\n",
    "X = tf.placeholder(tf.float32, shape=[None, vocab_size], name='X_palceholder')\n",
    "y = tf.placeholder(tf.float32, shape=[None, vocab_size], name='y_placeholder')"
   ]
  },
  {
   "cell_type": "markdown",
   "metadata": {},
   "source": [
    "### Hyperparameters"
   ]
  },
  {
   "cell_type": "code",
   "execution_count": null,
   "metadata": {
    "collapsed": true
   },
   "outputs": [],
   "source": [
    "embedding_dim = 50"
   ]
  },
  {
   "cell_type": "code",
   "execution_count": null,
   "metadata": {
    "collapsed": true
   },
   "outputs": [],
   "source": [
    "W1 = tf.Variable(tf.truncated_normal(shape=[vocab_size, embedding_dim]))\n",
    "b1 = tf.Variable(tf.zeros(shape=[embedding_dim]))\n",
    "\n",
    "hidden = tf.matmul(X, W1) + b"
   ]
  },
  {
   "cell_type": "code",
   "execution_count": null,
   "metadata": {
    "collapsed": true
   },
   "outputs": [],
   "source": [
    "W2 = tf.Variable(tf.truncated_normal(shape=[embedding_dim, vocab_size]))\n",
    "b2 = tf.Variable(tf.zeros(shape=[vocab_size]))\n",
    "pred = tf.nn.softmax(tf.matmul(hidden, W2) + b2)"
   ]
  },
  {
   "cell_type": "code",
   "execution_count": null,
   "metadata": {
    "collapsed": true
   },
   "outputs": [],
   "source": []
  },
  {
   "cell_type": "code",
   "execution_count": null,
   "metadata": {
    "collapsed": true
   },
   "outputs": [],
   "source": []
  }
 ],
 "metadata": {
  "kernelspec": {
   "display_name": "Python 3",
   "language": "python",
   "name": "python3"
  },
  "language_info": {
   "codemirror_mode": {
    "name": "ipython",
    "version": 3
   },
   "file_extension": ".py",
   "mimetype": "text/x-python",
   "name": "python",
   "nbconvert_exporter": "python",
   "pygments_lexer": "ipython3",
   "version": "3.6.3"
  }
 },
 "nbformat": 4,
 "nbformat_minor": 2
}
