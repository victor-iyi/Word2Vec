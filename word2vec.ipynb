{
 "cells": [
  {
   "cell_type": "markdown",
   "metadata": {
    "deletable": true,
    "editable": true
   },
   "source": [
    "# `Word2Vec`"
   ]
  },
  {
   "cell_type": "code",
   "execution_count": 1,
   "metadata": {
    "collapsed": true,
    "deletable": true,
    "editable": true
   },
   "outputs": [],
   "source": [
    "# Vanilla PyLibraries\n",
    "import os\n",
    "import sys\n",
    "import datetime as dt\n",
    "\n",
    "# Third party Librarires\n",
    "import numpy as np\n",
    "import tensorflow as tf\n",
    "\n",
    "# Custom libraries\n",
    "from dataset import TextDataset"
   ]
  },
  {
   "cell_type": "markdown",
   "metadata": {
    "deletable": true,
    "editable": true
   },
   "source": [
    "## initializing `Word2Vec`"
   ]
  },
  {
   "cell_type": "code",
   "execution_count": 2,
   "metadata": {
    "collapsed": false,
    "deletable": true,
    "editable": true
   },
   "outputs": [
    {
     "name": "stdout",
     "output_type": "stream",
     "text": [
      "Processing 8,224 of 8,224 sentences. Time taken: 0:00:32.279244"
     ]
    }
   ],
   "source": [
    "data_dir = 'datasets/wiki.valid.raw'\n",
    "save_file = 'datasets/saved/data.pkl'\n",
    "\n",
    "w2v = TextDataset(data_dir=data_dir, logging=True)\n",
    "w2v.create()"
   ]
  },
  {
   "cell_type": "markdown",
   "metadata": {
    "deletable": true,
    "editable": true
   },
   "source": [
    "### Hyperparameters"
   ]
  },
  {
   "cell_type": "code",
   "execution_count": 3,
   "metadata": {
    "collapsed": true,
    "deletable": true,
    "editable": true
   },
   "outputs": [],
   "source": [
    "# Model/Network\n",
    "embedding_dim = 50\n",
    "learning_rate = 1e-3\n",
    "vocab_size = w2v.vocab_size\n",
    "# Training\n",
    "epochs = 10000\n",
    "save_interval = 50\n",
    "batch_size = 25"
   ]
  },
  {
   "cell_type": "markdown",
   "metadata": {
    "deletable": true,
    "editable": true
   },
   "source": [
    "## Training with a `tensorflow` model"
   ]
  },
  {
   "cell_type": "code",
   "execution_count": 4,
   "metadata": {
    "collapsed": true,
    "deletable": true,
    "editable": true
   },
   "outputs": [],
   "source": [
    "# Model's placeholders\n",
    "X = tf.placeholder(tf.float32, shape=[None, vocab_size], name='X_palceholder')\n",
    "y = tf.placeholder(tf.float32, shape=[None, vocab_size], name='y_placeholder')\n",
    "y_true = tf.argmax(y, axis=1)"
   ]
  },
  {
   "cell_type": "markdown",
   "metadata": {
    "deletable": true,
    "editable": true
   },
   "source": [
    "### Building the Network"
   ]
  },
  {
   "cell_type": "code",
   "execution_count": 5,
   "metadata": {
    "collapsed": false,
    "deletable": true,
    "editable": true
   },
   "outputs": [],
   "source": [
    "# Input -> Hidden\n",
    "W1 = tf.Variable(tf.truncated_normal(shape=[vocab_size, embedding_dim]))\n",
    "b1 = tf.Variable(tf.zeros(shape=[embedding_dim]))\n",
    "hidden = tf.matmul(X, W1) + b1"
   ]
  },
  {
   "cell_type": "code",
   "execution_count": 6,
   "metadata": {
    "collapsed": true,
    "deletable": true,
    "editable": true
   },
   "outputs": [],
   "source": [
    "# Hidden -> Output\n",
    "W2 = tf.Variable(tf.truncated_normal(shape=[embedding_dim, vocab_size]))\n",
    "b2 = tf.Variable(tf.zeros(shape=[vocab_size]))\n",
    "y_hat = tf.matmul(hidden, W2) + b2\n",
    "y_norm = tf.nn.softmax(y_hat)\n",
    "y_pred = tf.argmax(y_norm, axis=1)"
   ]
  },
  {
   "cell_type": "markdown",
   "metadata": {
    "deletable": true,
    "editable": true
   },
   "source": [
    "### Loss, training and accuracy"
   ]
  },
  {
   "cell_type": "code",
   "execution_count": 7,
   "metadata": {
    "collapsed": false,
    "deletable": true,
    "editable": true
   },
   "outputs": [],
   "source": [
    "xentropy = tf.nn.softmax_cross_entropy_with_logits(logits=y_hat, labels=y, name='xentropy')\n",
    "loss = tf.reduce_mean(xentropy, name='loss')\n",
    "optimizer = tf.train.AdamOptimizer(learning_rate=learning_rate)\n",
    "train_step = optimizer.minimize(loss)"
   ]
  },
  {
   "cell_type": "markdown",
   "metadata": {
    "deletable": true,
    "editable": true
   },
   "source": [
    "### Accuracy"
   ]
  },
  {
   "cell_type": "code",
   "execution_count": 8,
   "metadata": {
    "collapsed": true,
    "deletable": true,
    "editable": true
   },
   "outputs": [],
   "source": [
    "correct = tf.equal(y_pred, y_true)\n",
    "accuracy = tf.reduce_mean(tf.cast(correct, tf.float32))"
   ]
  },
  {
   "cell_type": "markdown",
   "metadata": {
    "deletable": true,
    "editable": true
   },
   "source": [
    "## Initializing global variables and  `tf.Session()`"
   ]
  },
  {
   "cell_type": "code",
   "execution_count": 9,
   "metadata": {
    "collapsed": true,
    "deletable": true,
    "editable": true
   },
   "outputs": [],
   "source": [
    "sess = tf.Session()\n",
    "init = tf.global_variables_initializer()\n",
    "sess.run(init)"
   ]
  },
  {
   "cell_type": "markdown",
   "metadata": {
    "deletable": true,
    "editable": true
   },
   "source": [
    "## Tensorboard"
   ]
  },
  {
   "cell_type": "code",
   "execution_count": 10,
   "metadata": {
    "collapsed": false,
    "deletable": true,
    "editable": true
   },
   "outputs": [],
   "source": [
    "# Files & directories\n",
    "save_path = 'models/'  # Trained model\n",
    "tensorboard_dir = 'tensorboard/'  # summary protobuf\n",
    "logdir = os.path.join(tensorboard_dir, 'log')   # summary's file writer\n",
    "\n",
    "# Summaries\n",
    "tf.summary.scalar('Loss', loss)\n",
    "tf.summary.scalar('Accuracy', accuracy)\n",
    "merged = tf.summary.merge_all()\n",
    "\n",
    "# saver & writer\n",
    "saver = tf.train.Saver()\n",
    "writer = tf.summary.FileWriter(logdir=logdir, graph=sess.graph)\n",
    "\n",
    "# Restore or create\n",
    "if tf.gfile.Exists(save_path):\n",
    "    if len(os.listdir(save_path)) > 1:\n",
    "        saver.restore(sess=sess, save_path=save_path)\n",
    "else:\n",
    "    tf.gfile.MakeDirs(save_path)"
   ]
  },
  {
   "cell_type": "markdown",
   "metadata": {
    "deletable": true,
    "editable": true
   },
   "source": [
    "## Training"
   ]
  },
  {
   "cell_type": "code",
   "execution_count": 11,
   "metadata": {
    "collapsed": false,
    "deletable": true,
    "editable": true,
    "scrolled": true
   },
   "outputs": [
    {
     "name": "stdout",
     "output_type": "stream",
     "text": [
      "10,000 of 10,000 epochs\tTime taken: 0:08:51.632382"
     ]
    }
   ],
   "source": [
    "train_start = dt.datetime.now()\n",
    "for i in range(epochs):\n",
    "    # Train\n",
    "    X_batch, y_batch = w2v.next_batch(batch_size=batch_size, shuffle=True)\n",
    "    sess.run(train_step, feed_dict={X: X_batch, y: y_batch})\n",
    "    # Save at interval\n",
    "    if i % save_interval == 0:\n",
    "        # Tensorboard summary\n",
    "        summary = sess.run(merged, feed_dict={X: X_batch, y: y_batch})\n",
    "        writer.add_summary(summary=summary, global_step=i)\n",
    "        # Save model\n",
    "        saver.save(sess=sess, save_path=save_path)\n",
    "    sys.stdout.write('\\r{:,} of {:,} epochs\\tTime taken: {}'.format(i+1, \n",
    "                                                                    epochs, \n",
    "                                                                    dt.datetime.now() - train_start))"
   ]
  },
  {
   "cell_type": "markdown",
   "metadata": {
    "deletable": true,
    "editable": true
   },
   "source": [
    "## Word vectors"
   ]
  },
  {
   "cell_type": "code",
   "execution_count": 12,
   "metadata": {
    "collapsed": false,
    "deletable": true,
    "editable": true,
    "scrolled": false
   },
   "outputs": [
    {
     "name": "stdout",
     "output_type": "stream",
     "text": [
      "(17588, 50)\n"
     ]
    }
   ],
   "source": [
    "word_vectors = sess.run(W1 + b1)\n",
    "print(word_vectors.shape)"
   ]
  },
  {
   "cell_type": "code",
   "execution_count": 13,
   "metadata": {
    "collapsed": false,
    "deletable": true,
    "editable": true,
    "scrolled": false
   },
   "outputs": [
    {
     "data": {
      "text/plain": [
       "array([ 0.34771562, -1.48245394, -0.32719854,  1.17947757,  0.70884764,\n",
       "        0.4491581 ,  1.41901803,  1.24369752,  0.69479764, -1.02207363,\n",
       "       -0.60569561, -0.67520511, -0.55108023,  0.92150593,  1.1518805 ,\n",
       "       -0.0336429 , -1.62853384, -1.21681619, -0.70099843, -1.46538532,\n",
       "        0.02241147, -0.22869167,  0.18646038, -0.20468491,  0.1531736 ,\n",
       "        0.22502221,  0.52767438,  0.46577272, -0.07892847,  0.10553825,\n",
       "        1.09543025,  0.32182369,  1.05936515,  0.47451001,  0.32495922,\n",
       "        1.48756492, -0.24477828, -0.99777889,  1.9758451 ,  0.72210848,\n",
       "       -0.30577436, -0.10062671, -0.38749754,  0.14672384, -0.63682145,\n",
       "       -0.84977138, -0.10278291,  0.09870076,  1.57016897, -0.48524785], dtype=float32)"
      ]
     },
     "execution_count": 13,
     "metadata": {},
     "output_type": "execute_result"
    }
   ],
   "source": [
    "word_vectors[w2v.word2id['you']]"
   ]
  },
  {
   "cell_type": "code",
   "execution_count": null,
   "metadata": {
    "collapsed": false,
    "deletable": true,
    "editable": true
   },
   "outputs": [],
   "source": []
  },
  {
   "cell_type": "code",
   "execution_count": null,
   "metadata": {
    "collapsed": true,
    "deletable": true,
    "editable": true
   },
   "outputs": [],
   "source": []
  }
 ],
 "metadata": {
  "kernelspec": {
   "display_name": "Python 3",
   "language": "python",
   "name": "python3"
  },
  "language_info": {
   "codemirror_mode": {
    "name": "ipython",
    "version": 3
   },
   "file_extension": ".py",
   "mimetype": "text/x-python",
   "name": "python",
   "nbconvert_exporter": "python",
   "pygments_lexer": "ipython3",
   "version": "3.6.3"
  }
 },
 "nbformat": 4,
 "nbformat_minor": 2
}
