{
 "cells": [
  {
   "cell_type": "markdown",
   "metadata": {
    "deletable": true,
    "editable": true
   },
   "source": [
    "# `Word2Vec`"
   ]
  },
  {
   "cell_type": "code",
   "execution_count": 1,
   "metadata": {
    "collapsed": true,
    "deletable": true,
    "editable": true
   },
   "outputs": [],
   "source": [
    "# Vanilla PyLibraries\n",
    "import os\n",
    "import sys\n",
    "import datetime as dt\n",
    "\n",
    "# Third party Librarires\n",
    "import nltk\n",
    "import numpy as np\n",
    "import tensorflow as tf\n",
    "\n",
    "# Custom libraries\n",
    "from word2vec import Word2Vec"
   ]
  },
  {
   "cell_type": "markdown",
   "metadata": {
    "deletable": true,
    "editable": true
   },
   "source": [
    "## initializing `Word2Vec`"
   ]
  },
  {
   "cell_type": "code",
   "execution_count": 2,
   "metadata": {
    "collapsed": false,
    "deletable": true,
    "editable": true
   },
   "outputs": [
    {
     "name": "stdout",
     "output_type": "stream",
     "text": [
      "Processing 216,564 of 216,564 features & labels\tSo far = 0:00:46.404449"
     ]
    }
   ],
   "source": [
    "file_name = 'datasets/wiki.valid.raw'\n",
    "w2v = Word2Vec(filename=file_name, window=2, max_word=300000, logging=True)"
   ]
  },
  {
   "cell_type": "markdown",
   "metadata": {
    "deletable": true,
    "editable": true
   },
   "source": [
    "### Hyperparameters"
   ]
  },
  {
   "cell_type": "code",
   "execution_count": 3,
   "metadata": {
    "collapsed": true,
    "deletable": true,
    "editable": true
   },
   "outputs": [],
   "source": [
    "# Model/Network\n",
    "embedding_dim = 50\n",
    "learning_rate = 1e-3\n",
    "vocab_size = w2v.vocab_size\n",
    "# Training\n",
    "epochs = 10000\n",
    "save_interval = 50\n",
    "batch_size = 25"
   ]
  },
  {
   "cell_type": "markdown",
   "metadata": {
    "deletable": true,
    "editable": true
   },
   "source": [
    "## Training with a `tensorflow` model"
   ]
  },
  {
   "cell_type": "code",
   "execution_count": 4,
   "metadata": {
    "collapsed": true,
    "deletable": true,
    "editable": true
   },
   "outputs": [],
   "source": [
    "# Model's placeholders\n",
    "X = tf.placeholder(tf.float32, shape=[None, vocab_size], name='X_palceholder')\n",
    "y = tf.placeholder(tf.float32, shape=[None, vocab_size], name='y_placeholder')\n",
    "y_true = tf.argmax(y, axis=1)"
   ]
  },
  {
   "cell_type": "markdown",
   "metadata": {
    "deletable": true,
    "editable": true
   },
   "source": [
    "### Building the Network"
   ]
  },
  {
   "cell_type": "code",
   "execution_count": 5,
   "metadata": {
    "collapsed": false,
    "deletable": true,
    "editable": true
   },
   "outputs": [],
   "source": [
    "# Input -> Hidden\n",
    "W1 = tf.Variable(tf.truncated_normal(shape=[vocab_size, embedding_dim]))\n",
    "b1 = tf.Variable(tf.zeros(shape=[embedding_dim]))\n",
    "hidden = tf.matmul(X, W1) + b1"
   ]
  },
  {
   "cell_type": "code",
   "execution_count": 6,
   "metadata": {
    "collapsed": true,
    "deletable": true,
    "editable": true
   },
   "outputs": [],
   "source": [
    "# Hidden -> Output\n",
    "W2 = tf.Variable(tf.truncated_normal(shape=[embedding_dim, vocab_size]))\n",
    "b2 = tf.Variable(tf.zeros(shape=[vocab_size]))\n",
    "y_hat = tf.matmul(hidden, W2) + b2\n",
    "y_norm = tf.nn.softmax(y_hat)\n",
    "y_pred = tf.argmax(y_norm, axis=1)"
   ]
  },
  {
   "cell_type": "markdown",
   "metadata": {
    "deletable": true,
    "editable": true
   },
   "source": [
    "### Loss, training and accuracy"
   ]
  },
  {
   "cell_type": "code",
   "execution_count": 7,
   "metadata": {
    "collapsed": false,
    "deletable": true,
    "editable": true
   },
   "outputs": [],
   "source": [
    "xentropy = tf.nn.softmax_cross_entropy_with_logits(logits=y_hat, labels=y, name='xentropy')\n",
    "loss = tf.reduce_mean(xentropy, name='loss')\n",
    "optimizer = tf.train.AdamOptimizer(learning_rate=learning_rate)\n",
    "train_step = optimizer.minimize(loss)"
   ]
  },
  {
   "cell_type": "markdown",
   "metadata": {
    "deletable": true,
    "editable": true
   },
   "source": [
    "### Accuracy"
   ]
  },
  {
   "cell_type": "code",
   "execution_count": 8,
   "metadata": {
    "collapsed": true,
    "deletable": true,
    "editable": true
   },
   "outputs": [],
   "source": [
    "correct = tf.equal(y_pred, y_true)\n",
    "accuracy = tf.reduce_mean(tf.cast(correct, tf.float32))"
   ]
  },
  {
   "cell_type": "markdown",
   "metadata": {
    "deletable": true,
    "editable": true
   },
   "source": [
    "## Initializing global variables and  `tf.Session()`"
   ]
  },
  {
   "cell_type": "code",
   "execution_count": 9,
   "metadata": {
    "collapsed": true,
    "deletable": true,
    "editable": true
   },
   "outputs": [],
   "source": [
    "sess = tf.Session()\n",
    "init = tf.global_variables_initializer()\n",
    "sess.run(init)"
   ]
  },
  {
   "cell_type": "markdown",
   "metadata": {
    "deletable": true,
    "editable": true
   },
   "source": [
    "## Tensorboard"
   ]
  },
  {
   "cell_type": "code",
   "execution_count": 10,
   "metadata": {
    "collapsed": true,
    "deletable": true,
    "editable": true
   },
   "outputs": [],
   "source": [
    "model_path = 'models/'  # Trained model\n",
    "tensorboard_dir = 'tensorboard/'  # summary protobuf\n",
    "logdir = os.path.join(tensorboard_dir, 'log')   # summary's file writer\n",
    "save_path = os.path.join(model_path, 'saved_chkpt')  # tf.train.Saver\n",
    "\n",
    "# Summaries\n",
    "tf.summary.scalar('Loss', loss)\n",
    "tf.summary.scalar('Accuracy', accuracy)\n",
    "merged = tf.summary.merge_all()\n",
    "\n",
    "# Save path\n",
    "if not tf.gfile.Exists(save_path):\n",
    "    tf.gfile.MakeDirs(save_path)\n",
    "\n",
    "# saver & writer\n",
    "saver = tf.train.Saver()\n",
    "writer = tf.summary.FileWriter(logdir=logdir, graph=sess.graph)"
   ]
  },
  {
   "cell_type": "markdown",
   "metadata": {
    "deletable": true,
    "editable": true
   },
   "source": [
    "## Maybe restore `sess`"
   ]
  },
  {
   "cell_type": "code",
   "execution_count": 11,
   "metadata": {
    "collapsed": true,
    "deletable": true,
    "editable": true
   },
   "outputs": [],
   "source": [
    "if len(os.listdir(save_path)) > 1:\n",
    "    saver.restore(sess=sess, save_path=save_path)"
   ]
  },
  {
   "cell_type": "markdown",
   "metadata": {
    "deletable": true,
    "editable": true
   },
   "source": [
    "## Training"
   ]
  },
  {
   "cell_type": "code",
   "execution_count": 12,
   "metadata": {
    "collapsed": false,
    "deletable": true,
    "editable": true,
    "scrolled": true
   },
   "outputs": [
    {
     "name": "stdout",
     "output_type": "stream",
     "text": [
      "10,000 of 10,000 epochs\tTime taken: 0:07:21.147411"
     ]
    }
   ],
   "source": [
    "train_start = dt.datetime.now()\n",
    "for i in range(epochs):\n",
    "    # Train\n",
    "    X_batch, y_batch = w2v.next_batch(batch_size=batch_size, shuffle=True)\n",
    "    sess.run(train_step, feed_dict={X: X_batch, y: y_batch})\n",
    "    # Save at interval\n",
    "    if i % save_interval == 0:\n",
    "        # Tensorboard summary\n",
    "        summary = sess.run(merged, feed_dict={X: X_batch, y: y_batch})\n",
    "        writer.add_summary(summary=summary, global_step=i)\n",
    "        # Save model\n",
    "        saver.save(sess=sess, save_path=save_path)\n",
    "    sys.stdout.write('\\r{:,} of {:,} epochs\\tTime taken: {}'.format(i+1, \n",
    "                                                                    epochs, \n",
    "                                                                    dt.datetime.now() - train_start))"
   ]
  },
  {
   "cell_type": "markdown",
   "metadata": {},
   "source": [
    "## Word vectors"
   ]
  },
  {
   "cell_type": "code",
   "execution_count": 13,
   "metadata": {
    "collapsed": true,
    "deletable": true,
    "editable": true
   },
   "outputs": [],
   "source": [
    "word_vectors = sess.run(W1+b1)"
   ]
  },
  {
   "cell_type": "code",
   "execution_count": 14,
   "metadata": {
    "collapsed": false
   },
   "outputs": [
    {
     "data": {
      "text/plain": [
       "array([-0.40647915, -1.54038668,  0.96889699,  2.38689089,  0.18733439,\n",
       "        0.01432925,  0.42414069, -0.70697951,  0.12950361,  0.49804807,\n",
       "        0.6898616 ,  0.22314285, -0.15924607,  0.80975097, -0.79772693,\n",
       "        1.27051961, -0.43749866, -0.59412599, -0.08322832, -0.94056433,\n",
       "       -0.15235914,  0.39726585, -0.35752249, -0.76216185, -0.4608584 ,\n",
       "       -0.57288337, -0.89180738, -0.55093992, -0.22305332, -0.41118991,\n",
       "       -1.20292675,  0.68545181, -0.06466773, -1.45920038,  0.92337406,\n",
       "       -0.19553319,  0.23342112, -0.02950775,  0.99807662,  1.0669595 ,\n",
       "        0.77936971,  0.11199767,  0.33815259,  0.41459379,  1.19492412,\n",
       "        0.29061928,  0.10750902,  0.81457388, -1.15937185,  1.08940065], dtype=float32)"
      ]
     },
     "execution_count": 14,
     "metadata": {},
     "output_type": "execute_result"
    }
   ],
   "source": [
    "word_vectors[w2v.word2id['you']]"
   ]
  },
  {
   "cell_type": "code",
   "execution_count": null,
   "metadata": {
    "collapsed": true
   },
   "outputs": [],
   "source": []
  },
  {
   "cell_type": "code",
   "execution_count": null,
   "metadata": {
    "collapsed": false
   },
   "outputs": [],
   "source": []
  },
  {
   "cell_type": "code",
   "execution_count": null,
   "metadata": {
    "collapsed": true
   },
   "outputs": [],
   "source": []
  }
 ],
 "metadata": {
  "kernelspec": {
   "display_name": "Python 3",
   "language": "python",
   "name": "python3"
  },
  "language_info": {
   "codemirror_mode": {
    "name": "ipython",
    "version": 3
   },
   "file_extension": ".py",
   "mimetype": "text/x-python",
   "name": "python",
   "nbconvert_exporter": "python",
   "pygments_lexer": "ipython3",
   "version": "3.6.3"
  }
 },
 "nbformat": 4,
 "nbformat_minor": 2
}
