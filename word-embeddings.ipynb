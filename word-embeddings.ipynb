{
 "cells": [
  {
   "cell_type": "code",
   "execution_count": 1,
   "metadata": {
    "collapsed": true,
    "deletable": true,
    "editable": true
   },
   "outputs": [],
   "source": [
    "import os\n",
    "import sys\n",
    "import datetime as dt\n",
    "\n",
    "import numpy as np\n",
    "import tensorflow as tf\n",
    "from nltk import word_tokenize, sent_tokenize\n"
   ]
  },
  {
   "cell_type": "code",
   "execution_count": 4,
   "metadata": {
    "collapsed": true,
    "deletable": true,
    "editable": true
   },
   "outputs": [],
   "source": [
    "corpus_text = 'The quick brown fox jumps over the lazy dog. Victor is a really cool dude who is a badass programmer.'\n",
    "corpus_text = corpus_text.lower()"
   ]
  },
  {
   "cell_type": "code",
   "execution_count": 6,
   "metadata": {
    "collapsed": false,
    "deletable": true,
    "editable": true
   },
   "outputs": [
    {
     "name": "stdout",
     "output_type": "stream",
     "text": [
      "{'programmer', 'dog', 'lazy', 'brown', 'the', 'cool', 'dude', 'is', 'really', 'victor', 'fox', '.', 'jumps', 'over', 'who', 'a', 'badass', 'quick'}\n"
     ]
    }
   ],
   "source": [
    "words = word_tokenize(corpus_text)\n",
    "words = set(words)"
   ]
  },
  {
   "cell_type": "code",
   "execution_count": 8,
   "metadata": {
    "collapsed": true,
    "deletable": true,
    "editable": true
   },
   "outputs": [],
   "source": [
    "word2idx = {w: i for i, w in enumerate(words)}\n",
    "idx2word = {i: w for i, w in enumerate(words)}\n",
    "vocab_size = len(words)"
   ]
  },
  {
   "cell_type": "code",
   "execution_count": 9,
   "metadata": {
    "collapsed": true,
    "deletable": true,
    "editable": true
   },
   "outputs": [],
   "source": [
    "raw_sentences = sent_tokenize(corpus_text)\n",
    "sentences = [word_tokenize(sent) for sent in raw_sentences]"
   ]
  },
  {
   "cell_type": "code",
   "execution_count": 23,
   "metadata": {
    "collapsed": false,
    "deletable": true,
    "editable": true
   },
   "outputs": [
    {
     "name": "stdout",
     "output_type": "stream",
     "text": [
      "\r",
      "1 of 2 sentences\t1 of 10 words\r",
      "1 of 2 sentences\t1 of 10 words\r",
      "1 of 2 sentences\t1 of 10 words\r",
      "1 of 2 sentences\t2 of 10 words\r",
      "1 of 2 sentences\t2 of 10 words\r",
      "1 of 2 sentences\t2 of 10 words\r",
      "1 of 2 sentences\t2 of 10 words\r",
      "1 of 2 sentences\t3 of 10 words\r",
      "1 of 2 sentences\t3 of 10 words\r",
      "1 of 2 sentences\t3 of 10 words\r",
      "1 of 2 sentences\t3 of 10 words\r",
      "1 of 2 sentences\t3 of 10 words\r",
      "1 of 2 sentences\t4 of 10 words\r",
      "1 of 2 sentences\t4 of 10 words\r",
      "1 of 2 sentences\t4 of 10 words\r",
      "1 of 2 sentences\t4 of 10 words\r",
      "1 of 2 sentences\t4 of 10 words\r",
      "1 of 2 sentences\t5 of 10 words\r",
      "1 of 2 sentences\t5 of 10 words\r",
      "1 of 2 sentences\t5 of 10 words\r",
      "1 of 2 sentences\t5 of 10 words\r",
      "1 of 2 sentences\t5 of 10 words\r",
      "1 of 2 sentences\t6 of 10 words\r",
      "1 of 2 sentences\t6 of 10 words\r",
      "1 of 2 sentences\t6 of 10 words\r",
      "1 of 2 sentences\t6 of 10 words\r",
      "1 of 2 sentences\t6 of 10 words\r",
      "1 of 2 sentences\t7 of 10 words\r",
      "1 of 2 sentences\t7 of 10 words\r",
      "1 of 2 sentences\t7 of 10 words\r",
      "1 of 2 sentences\t7 of 10 words\r",
      "1 of 2 sentences\t7 of 10 words\r",
      "1 of 2 sentences\t8 of 10 words\r",
      "1 of 2 sentences\t8 of 10 words\r",
      "1 of 2 sentences\t8 of 10 words\r",
      "1 of 2 sentences\t8 of 10 words\r",
      "1 of 2 sentences\t8 of 10 words\r",
      "1 of 2 sentences\t9 of 10 words\r",
      "1 of 2 sentences\t9 of 10 words\r",
      "1 of 2 sentences\t9 of 10 words\r",
      "1 of 2 sentences\t9 of 10 words\r",
      "1 of 2 sentences\t10 of 10 words\r",
      "1 of 2 sentences\t10 of 10 words\r",
      "1 of 2 sentences\t10 of 10 words\r",
      "2 of 2 sentences\t1 of 12 words\r",
      "2 of 2 sentences\t1 of 12 words\r",
      "2 of 2 sentences\t1 of 12 words\r",
      "2 of 2 sentences\t2 of 12 words\r",
      "2 of 2 sentences\t2 of 12 words\r",
      "2 of 2 sentences\t2 of 12 words\r",
      "2 of 2 sentences\t2 of 12 words\r",
      "2 of 2 sentences\t3 of 12 words\r",
      "2 of 2 sentences\t3 of 12 words\r",
      "2 of 2 sentences\t3 of 12 words\r",
      "2 of 2 sentences\t3 of 12 words\r",
      "2 of 2 sentences\t3 of 12 words\r",
      "2 of 2 sentences\t4 of 12 words\r",
      "2 of 2 sentences\t4 of 12 words\r",
      "2 of 2 sentences\t4 of 12 words\r",
      "2 of 2 sentences\t4 of 12 words\r",
      "2 of 2 sentences\t4 of 12 words\r",
      "2 of 2 sentences\t5 of 12 words\r",
      "2 of 2 sentences\t5 of 12 words\r",
      "2 of 2 sentences\t5 of 12 words\r",
      "2 of 2 sentences\t5 of 12 words\r",
      "2 of 2 sentences\t5 of 12 words\r",
      "2 of 2 sentences\t6 of 12 words\r",
      "2 of 2 sentences\t6 of 12 words\r",
      "2 of 2 sentences\t6 of 12 words\r",
      "2 of 2 sentences\t6 of 12 words\r",
      "2 of 2 sentences\t6 of 12 words\r",
      "2 of 2 sentences\t7 of 12 words\r",
      "2 of 2 sentences\t7 of 12 words\r",
      "2 of 2 sentences\t7 of 12 words\r",
      "2 of 2 sentences\t7 of 12 words\r",
      "2 of 2 sentences\t7 of 12 words\r",
      "2 of 2 sentences\t8 of 12 words\r",
      "2 of 2 sentences\t8 of 12 words\r",
      "2 of 2 sentences\t8 of 12 words\r",
      "2 of 2 sentences\t8 of 12 words\r",
      "2 of 2 sentences\t8 of 12 words\r",
      "2 of 2 sentences\t9 of 12 words\r",
      "2 of 2 sentences\t9 of 12 words\r",
      "2 of 2 sentences\t9 of 12 words\r",
      "2 of 2 sentences\t9 of 12 words\r",
      "2 of 2 sentences\t9 of 12 words\r",
      "2 of 2 sentences\t10 of 12 words\r",
      "2 of 2 sentences\t10 of 12 words\r",
      "2 of 2 sentences\t10 of 12 words\r",
      "2 of 2 sentences\t10 of 12 words\r",
      "2 of 2 sentences\t10 of 12 words\r",
      "2 of 2 sentences\t11 of 12 words\r",
      "2 of 2 sentences\t11 of 12 words\r",
      "2 of 2 sentences\t11 of 12 words\r",
      "2 of 2 sentences\t11 of 12 words\r",
      "2 of 2 sentences\t12 of 12 words\r",
      "2 of 2 sentences\t12 of 12 words\r",
      "2 of 2 sentences\t12 of 12 words"
     ]
    }
   ],
   "source": [
    "# Generate training data\n",
    "data = []\n",
    "X = np.zeros(shape=[len(sentences), vocab_size])\n",
    "y = np.zeros(shape=[len(sentences), vocab_size])\n",
    "window = 2\n",
    "\n",
    "def one_hot_encode(index, size):\n",
    "    vector = np.zeros(shape=[size])\n",
    "    vector[index] = 1\n",
    "    return vector\n",
    "\n",
    "\n",
    "for sent_idx, sent in enumerate(sentences):\n",
    "    for word_idx, word in enumerate(sent):\n",
    "        start = max(word_idx-window, 0)\n",
    "        end = min(word_idx+window, len(sent)) + 1\n",
    "        for word_window in sent[start:end]:\n",
    "            if word_window != word:\n",
    "                # data.append([word, word_window])\n",
    "                X[sent_idx] = one_hot_encode(word2idx[word], vocab_size)\n",
    "                y[sent_idx] = one_hot_encode(word2idx[word_window], vocab_size)\n",
    "            sys.stdout.write('\\r{:,} of {:,} sentences\\t{:,} of {:,} words'.format(\n",
    "                sent_idx+1, len(sentences), word_idx+1, len(sent)))\n",
    "# convert to numpy array\n",
    "X = np.asarray(X)\n",
    "y = np.asarray(y)"
   ]
  },
  {
   "cell_type": "code",
   "execution_count": 24,
   "metadata": {
    "collapsed": false,
    "deletable": true,
    "editable": true
   },
   "outputs": [
    {
     "data": {
      "text/plain": [
       "array([[ 0.,  0.,  0.,  0.,  0.,  0.,  0.,  0.,  0.,  0.,  0.,  1.,  0.,\n",
       "         0.,  0.,  0.,  0.,  0.],\n",
       "       [ 0.,  0.,  0.,  0.,  0.,  0.,  0.,  0.,  0.,  0.,  0.,  1.,  0.,\n",
       "         0.,  0.,  0.,  0.,  0.]])"
      ]
     },
     "execution_count": 24,
     "metadata": {},
     "output_type": "execute_result"
    }
   ],
   "source": [
    "X"
   ]
  },
  {
   "cell_type": "code",
   "execution_count": null,
   "metadata": {
    "collapsed": true,
    "deletable": true,
    "editable": true
   },
   "outputs": [],
   "source": []
  }
 ],
 "metadata": {
  "kernelspec": {
   "display_name": "Python 3",
   "language": "python",
   "name": "python3"
  },
  "language_info": {
   "codemirror_mode": {
    "name": "ipython",
    "version": 3
   },
   "file_extension": ".py",
   "mimetype": "text/x-python",
   "name": "python",
   "nbconvert_exporter": "python",
   "pygments_lexer": "ipython3",
   "version": "3.6.3"
  }
 },
 "nbformat": 4,
 "nbformat_minor": 2
}
